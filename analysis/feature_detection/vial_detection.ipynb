{
 "cells": [
  {
   "cell_type": "code",
   "execution_count": 1,
   "metadata": {},
   "outputs": [],
   "source": [
    "import os\n",
    "import cv2\n",
    "import sys\n",
    "import hashlib\n",
    "import numpy as np\n",
    "import scipy.special as sp\n",
    "import matplotlib\n",
    "import matplotlib.pyplot as plt\n",
    "import datetime  \n",
    "\n"
   ]
  },
  {
   "cell_type": "code",
   "execution_count": 2,
   "metadata": {},
   "outputs": [],
   "source": [
    "# determine if we are using Windows or Linux filing conventions and assign root folders\n",
    "if sys.platform == 'win32':\n",
    "    SCAPA_ROOT = os.path.join('Z:', os.sep, 'group')\n",
    "    ORKNEY_ROOT = os.path.join('U:', os.sep)\n",
    "else:\n",
    "    SCAPA_ROOT = '/mnt/scapa4'\n",
    "    ORKNEY_ROOT  ='/mnt/orkney1'\n",
    "\n",
    "ORKNEY_TEAM = os.path.join(ORKNEY_ROOT, 'Clusters')\n",
    "ORKNEY_PROJECT = os.path.join(ORKNEY_TEAM, 'RandomXtl')\n",
    "ORKNEY_MASKRCNN = os.path.join(ORKNEY_PROJECT, 'MaskRCNN')\n",
    "ORKNEY_DETECTED = os.path.join(ORKNEY_MASKRCNN, 'detected')\n",
    "ORKNEY_TRAINING = os.path.join(ORKNEY_MASKRCNN, 'training')\n",
    "ORKNEY_DATASETS = os.path.join(ORKNEY_TRAINING, 'datasets')\n",
    "ORKNEY_LOGS = os.path.join(ORKNEY_TRAINING, 'logs')\n",
    "\n",
    "ORKNEY_IMAGES = os.path.join(ORKNEY_PROJECT, 'images')\n",
    "ORKNEY_RAW_IMGS = os.path.join(ORKNEY_IMAGES, 'raw_images')\n",
    "ORKNEY_PART_IMGS = os.path.join(ORKNEY_IMAGES, 'partitioned')\n",
    "\n",
    "ORKNEY_CV = os.path.join(ORKNEY_PROJECT, 'computer_vision')\n",
    "ORKNEY_VIALS = os.path.join(ORKNEY_CV, 'vials')\n",
    "ORKNEY_STRINGS = os.path.join(ORKNEY_PROJECT, 'random numbers')\n",
    "\n",
    "IMG_EXTS = ['.img', '.bmp', '.tiff', '.jpg', '.png']"
   ]
  },
  {
   "cell_type": "code",
   "execution_count": 3,
   "metadata": {},
   "outputs": [],
   "source": [
    "ranges = {'W19':{'filter': [np.array([0,180,0]), np.array([180,255,255])], 'rim': 0},\n",
    "          'Co4': {'filter':[np.array([0,0,120]), np.array([180,255,230])], 'rim': 42},\n",
    "          'CuSO4':{'filter': [np.array([0,0,100]), np.array([180,255,250])], 'rim': 42}\n",
    "         }"
   ]
  },
  {
   "cell_type": "code",
   "execution_count": 4,
   "metadata": {},
   "outputs": [],
   "source": [
    "def get_vial(image_path, cmpd):\n",
    "    \n",
    "    image_head, image_ext = os.path.splitext(image_path)\n",
    "    image_title = os.path.basename(image_head)\n",
    "    \n",
    "    reaction_path = os.path.dirname(os.path.dirname(image_path))\n",
    "    rxn_id = os.path.basename(reaction_path)\n",
    "    exp_path = os.path.dirname(reaction_path)\n",
    "    exp_id = os.path.basename(exp_path)\n",
    "\n",
    "    output_masks_dir = os.path.join(ORKNEY_VIALS, cmpd, exp_id, rxn_id, 'masks')\n",
    "    os.makedirs(output_masks_dir, exist_ok=True)\n",
    "    mask_path = os.path.join(output_masks_dir, image_title+'.png')\n",
    "    \n",
    "    output_data_dir = os.path.join(ORKNEY_VIALS, cmpd, exp_id, rxn_id, 'data')\n",
    "    os.makedirs(output_data_dir, exist_ok=True)\n",
    "    data_path = os.path.join(output_data_dir, image_title+'.txt')\n",
    "    \n",
    "    image = cv2.imread(image_path)\n",
    "    rgb = cv2.cvtColor(image, cv2.COLOR_BGR2RGB)\n",
    "    hsv = cv2.cvtColor(image, cv2.COLOR_BGR2HSV)\n",
    "\n",
    "    mask = cv2.inRange(hsv, ranges[cmpd]['filter'][0], ranges[cmpd]['filter'][1])\n",
    "    res = cv2.bitwise_and(image, image,mask=mask)\n",
    "    gray = cv2.cvtColor(res, cv2.COLOR_BGR2GRAY)\n",
    "    \n",
    "    contours = cv2.findContours(gray,cv2.RETR_TREE,cv2.CHAIN_APPROX_SIMPLE)[1]\n",
    "    largest_contours = sorted(contours, key=lambda x: cv2.contourArea(x))[-5:]\n",
    "    \n",
    "\n",
    "    bg = np.zeros(image.shape[:2], np.uint8)\n",
    "    roi = bg.copy()\n",
    "    roi[:, 200:1080] = 255\n",
    "    best_overlap = 0\n",
    "    best_cnt = None\n",
    "    approx_vial_rim = ranges[cmpd]['rim']\n",
    "    for idx, cnt in enumerate(largest_contours):  \n",
    "        contour_pic = cv2.drawContours(bg.copy(), [cnt], -1, 255, -1)\n",
    "        contour_overlap_pic = np.bitwise_and(contour_pic, roi)\n",
    "        overlap_amount = np.sum(contour_overlap_pic)\n",
    "        if overlap_amount > best_overlap:\n",
    "            best_cnt = contour_overlap_pic\n",
    "            best_overlap = overlap_amount\n",
    "            (x,y),radius = cv2.minEnclosingCircle(cnt)\n",
    "            x, y = int(x),int(y)\n",
    "            radius = int(radius)\n",
    "            if radius > approx_vial_rim:\n",
    "                best_cnt = cv2.circle(bg.copy(), (x, y), radius-approx_vial_rim, 255, -1)\n",
    "\n",
    "#     test = cv2.bitwise_and(image, image, mask=best_cnt)   \n",
    "#     plt.imshow(test)\n",
    "#     plt.show()\n",
    "    cv2.imwrite(mask_path, best_cnt)\n",
    "    with open(data_path, 'w') as f:\n",
    "        f.write('{},{},{}'.format(x,y,radius))\n",
    "# cmpd = 'Co4'\n",
    "# image_path = 'U:\\\\Chemobot\\\\crystalbot_imgs\\\\Co4\\\\20180219-0\\\\Reaction_020\\\\Images\\\\Image_050.png'\n",
    "# get_vial(image_path)"
   ]
  },
  {
   "cell_type": "code",
   "execution_count": 5,
   "metadata": {},
   "outputs": [],
   "source": [
    "def run_exp(exp_path, cmpd, reaction_range=[0,-1], image_range=[0,-1]):\n",
    "    start, end = reaction_range\n",
    "    rxns = sorted([i for i in os.listdir(exp_path) if 'reaction' in i.lower()])\n",
    "    for rxn in rxns[start:end]:\n",
    "        rxn_path = os.path.join(exp_path, rxn)\n",
    "        run_rxn(rxn_path, cmpd, image_range)\n",
    "    \n",
    "def run_rxn(rxn_path, cmpd, image_range=[0,-1]):\n",
    "    start, end = image_range\n",
    "    image_dir = os.path.join(rxn_path, 'Images')\n",
    "    image_names = sorted([i for i in os.listdir(image_dir)])\n",
    "    for name in image_names[start: end]:      \n",
    "        image_path= os.path.join(image_dir, name)\n",
    "        sys.stdout.write('\\r{}'.format(image_path))\n",
    "        data = get_vial(image_path, cmpd)\n"
   ]
  },
  {
   "cell_type": "code",
   "execution_count": 7,
   "metadata": {},
   "outputs": [
    {
     "name": "stdout",
     "output_type": "stream",
     "text": [
      "U:\\Chemobot\\crystalbot_imgs\\W19\\20180214-0\\Reaction_099\\Images\\Image_021.png"
     ]
    }
   ],
   "source": [
    "cmpd = 'W19'\n",
    "exp_path = 'U:\\\\Chemobot\\\\crystalbot_imgs\\\\W19\\\\20180214-0'\n",
    "\n",
    "run_exp(exp_path, cmpd=cmpd, reaction_range=[0,-1], image_range=[20,21])"
   ]
  }
 ],
 "metadata": {
  "kernelspec": {
   "display_name": "Python [conda env:mbot] *",
   "language": "python",
   "name": "conda-env-mbot-py"
  },
  "language_info": {
   "codemirror_mode": {
    "name": "ipython",
    "version": 3
   },
   "file_extension": ".py",
   "mimetype": "text/x-python",
   "name": "python",
   "nbconvert_exporter": "python",
   "pygments_lexer": "ipython3",
   "version": "3.7.3"
  }
 },
 "nbformat": 4,
 "nbformat_minor": 2
}
