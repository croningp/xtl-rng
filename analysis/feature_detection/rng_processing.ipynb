{
 "cells": [
  {
   "cell_type": "code",
   "execution_count": 1,
   "metadata": {},
   "outputs": [
    {
     "ename": "ModuleNotFoundError",
     "evalue": "No module named 'utils'",
     "output_type": "error",
     "traceback": [
      "\u001b[0;31m---------------------------------------------------------------------------\u001b[0m",
      "\u001b[0;31mModuleNotFoundError\u001b[0m                       Traceback (most recent call last)",
      "\u001b[0;32m<ipython-input-1-8807fe59629a>\u001b[0m in \u001b[0;36m<module>\u001b[0;34m\u001b[0m\n\u001b[1;32m     10\u001b[0m \u001b[0;34m\u001b[0m\u001b[0m\n\u001b[1;32m     11\u001b[0m \u001b[0;34m\u001b[0m\u001b[0m\n\u001b[0;32m---> 12\u001b[0;31m \u001b[0;32mimport\u001b[0m \u001b[0mutils\u001b[0m\u001b[0;34m\u001b[0m\u001b[0;34m\u001b[0m\u001b[0m\n\u001b[0m\u001b[1;32m     13\u001b[0m \u001b[0;32mfrom\u001b[0m \u001b[0mroutine\u001b[0m \u001b[0;32mimport\u001b[0m \u001b[0mRoutine\u001b[0m\u001b[0;34m\u001b[0m\u001b[0;34m\u001b[0m\u001b[0m\n\u001b[1;32m     14\u001b[0m \u001b[0;34m\u001b[0m\u001b[0m\n",
      "\u001b[0;31mModuleNotFoundError\u001b[0m: No module named 'utils'"
     ]
    }
   ],
   "source": [
    "import os\n",
    "import cv2\n",
    "import sys\n",
    "import hashlib\n",
    "import numpy as np\n",
    "import scipy.special as sp\n",
    "import matplotlib\n",
    "import matplotlib.pyplot as plt\n",
    "import datetime  \n",
    "\n",
    "\n",
    "import utils\n",
    "from routine import Routine\n",
    "\n",
    "%matplotlib inline\n",
    "\n",
    "#in order to find where the tests are located\n",
    "testing_dir = os.path.join('../randomness_testing/sp800_22_tests')\n",
    "sys.path.append(testing_dir)"
   ]
  },
  {
   "cell_type": "code",
   "execution_count": null,
   "metadata": {},
   "outputs": [],
   "source": [
    "# determine if we are using Windows or Linux filing conventions and assign root folders\n",
    "if sys.platform == 'win32':\n",
    "    SCAPA_ROOT = os.path.join('Z:', os.sep, 'group')\n",
    "    ORKNEY_ROOT = os.path.join('U:', os.sep)\n",
    "else:\n",
    "    SCAPA_ROOT = '/mnt/scapa4'\n",
    "    ORKNEY_ROOT  ='/mnt/orkney1'\n",
    "\n",
    "ORKNEY_TEAM = os.path.join(ORKNEY_ROOT, 'Clusters')\n",
    "ORKNEY_PROJECT = os.path.join(ORKNEY_TEAM, 'RandomXtl')\n",
    "ORKNEY_MASKRCNN = os.path.join(ORKNEY_PROJECT, 'MaskRCNN')\n",
    "ORKNEY_DETECTED = os.path.join(ORKNEY_MASKRCNN, 'detected')\n",
    "ORKNEY_TRAINING = os.path.join(ORKNEY_MASKRCNN, 'training')\n",
    "ORKNEY_DATASETS = os.path.join(ORKNEY_TRAINING, 'datasets')\n",
    "ORKNEY_LOGS = os.path.join(ORKNEY_TRAINING, 'logs')\n",
    "\n",
    "ORKNEY_IMAGES = os.path.join(ORKNEY_PROJECT, 'images')\n",
    "ORKNEY_RAW_IMGS = os.path.join(ORKNEY_IMAGES, 'raw_images')\n",
    "ORKNEY_PART_IMGS = os.path.join(ORKNEY_IMAGES, 'partitioned')\n",
    "\n",
    "ORKNEY_CV = os.path.join(ORKNEY_PROJECT, 'computer_vision')\n",
    "ORKNEY_VIALS = os.path.join(ORKNEY_CV, 'vials')\n",
    "\n",
    "ORKNEY_RANDOM = os.path.join(ORKNEY_PROJECT, 'random numbers')\n",
    "\n",
    "\n",
    "IMG_EXTS = ['.img', '.bmp', '.tiff', '.jpg', '.png']\n",
    "\n",
    "data = []\n",
    "\n",
    "def lin2win(filepath):\n",
    "    return filepath.replace('/mnt/scapa4', 'Z:').replace('/mnt/orkney1', 'U:').replace('/', '\\\\')\n",
    "\n",
    "def win2lin(filepath):\n",
    "    return filepath.replace('Z:', '/mnt/scapa4' ).replace('U:', '/mnt/orkney1').replace('\\\\', '/')"
   ]
  }
 ],
 "metadata": {
  "kernelspec": {
   "display_name": "Python 3",
   "language": "python",
   "name": "python3"
  },
  "language_info": {
   "codemirror_mode": {
    "name": "ipython",
    "version": 3
   },
   "file_extension": ".py",
   "mimetype": "text/x-python",
   "name": "python",
   "nbconvert_exporter": "python",
   "pygments_lexer": "ipython3",
   "version": "3.7.3"
  }
 },
 "nbformat": 4,
 "nbformat_minor": 2
}
