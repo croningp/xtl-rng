{
 "cells": [
  {
   "cell_type": "code",
   "execution_count": 58,
   "metadata": {},
   "outputs": [
    {
     "name": "stdout",
     "output_type": "stream",
     "text": [
      "U:\\Clusters\\RandomXtl\\MaskRCNN\\detected\\W19\\20180214-1\\Reaction_001\\Image_073\\[5,5,0.1]\\data\\111,527,1.png U:\\Clusters\\RandomXtl\\MaskRCNN\\detected\\W19\\20180214-1\\Reaction_001\\Image_073\\[5,5,0.1]\\data\\111,542,1.png 0.0 1.0\n",
      "U:\\Clusters\\RandomXtl\\MaskRCNN\\detected\\W19\\20180214-1\\Reaction_001\\Image_073\\[5,5,0.1]\\data\\111,542,1.png U:\\Clusters\\RandomXtl\\MaskRCNN\\detected\\W19\\20180214-1\\Reaction_001\\Image_073\\[5,5,0.1]\\data\\130,527,1.png 0.552570093457944 0.44742990654205606\n",
      "U:\\Clusters\\RandomXtl\\MaskRCNN\\detected\\W19\\20180214-1\\Reaction_001\\Image_073\\[5,5,0.1]\\data\\141,797,1.png U:\\Clusters\\RandomXtl\\MaskRCNN\\detected\\W19\\20180214-1\\Reaction_001\\Image_073\\[5,5,0.1]\\data\\145,799,1.png 0.0 1.0\n",
      "U:\\Clusters\\RandomXtl\\MaskRCNN\\detected\\W19\\20180214-1\\Reaction_001\\Image_073\\[5,5,0.1]\\data\\210,755,1.png U:\\Clusters\\RandomXtl\\MaskRCNN\\detected\\W19\\20180214-1\\Reaction_001\\Image_073\\[5,5,0.1]\\data\\212,758,1.png 0.0 1.0\n"
     ]
    },
    {
     "ename": "ValueError",
     "evalue": "could not broadcast input array from shape (35,45) into shape (35,0)",
     "output_type": "error",
     "traceback": [
      "\u001b[1;31m---------------------------------------------------------------------------\u001b[0m",
      "\u001b[1;31mValueError\u001b[0m                                Traceback (most recent call last)",
      "\u001b[1;32m<ipython-input-58-6869e09ab833>\u001b[0m in \u001b[0;36m<module>\u001b[1;34m\u001b[0m\n\u001b[0;32m     50\u001b[0m                     \u001b[1;32mbreak\u001b[0m\u001b[1;33m\u001b[0m\u001b[1;33m\u001b[0m\u001b[0m\n\u001b[0;32m     51\u001b[0m \u001b[1;33m\u001b[0m\u001b[0m\n\u001b[1;32m---> 52\u001b[1;33m                 \u001b[0mbg1\u001b[0m\u001b[1;33m[\u001b[0m\u001b[0mt\u001b[0m\u001b[1;33m:\u001b[0m\u001b[0mt\u001b[0m\u001b[1;33m+\u001b[0m\u001b[0mmask1\u001b[0m\u001b[1;33m.\u001b[0m\u001b[0mshape\u001b[0m\u001b[1;33m[\u001b[0m\u001b[1;36m0\u001b[0m\u001b[1;33m]\u001b[0m\u001b[1;33m,\u001b[0m \u001b[0ml\u001b[0m\u001b[1;33m:\u001b[0m\u001b[0ml\u001b[0m\u001b[1;33m+\u001b[0m\u001b[0mmask1\u001b[0m\u001b[1;33m.\u001b[0m\u001b[0mshape\u001b[0m\u001b[1;33m[\u001b[0m\u001b[1;36m1\u001b[0m\u001b[1;33m]\u001b[0m\u001b[1;33m]\u001b[0m \u001b[1;33m=\u001b[0m \u001b[0mmask1\u001b[0m\u001b[1;33m\u001b[0m\u001b[1;33m\u001b[0m\u001b[0m\n\u001b[0m\u001b[0;32m     53\u001b[0m                 \u001b[0mbg2\u001b[0m\u001b[1;33m[\u001b[0m\u001b[0mt2\u001b[0m\u001b[1;33m:\u001b[0m\u001b[0mt2\u001b[0m\u001b[1;33m+\u001b[0m\u001b[0mmask2\u001b[0m\u001b[1;33m.\u001b[0m\u001b[0mshape\u001b[0m\u001b[1;33m[\u001b[0m\u001b[1;36m0\u001b[0m\u001b[1;33m]\u001b[0m\u001b[1;33m,\u001b[0m \u001b[0ml2\u001b[0m\u001b[1;33m:\u001b[0m\u001b[0ml2\u001b[0m\u001b[1;33m+\u001b[0m\u001b[0mmask2\u001b[0m\u001b[1;33m.\u001b[0m\u001b[0mshape\u001b[0m\u001b[1;33m[\u001b[0m\u001b[1;36m1\u001b[0m\u001b[1;33m]\u001b[0m\u001b[1;33m]\u001b[0m \u001b[1;33m=\u001b[0m \u001b[0mmask2\u001b[0m\u001b[1;33m\u001b[0m\u001b[1;33m\u001b[0m\u001b[0m\n\u001b[0;32m     54\u001b[0m \u001b[1;33m\u001b[0m\u001b[0m\n",
      "\u001b[1;31mValueError\u001b[0m: could not broadcast input array from shape (35,45) into shape (35,0)"
     ]
    }
   ],
   "source": [
    "import os\n",
    "import cv2\n",
    "import numpy as np\n",
    "from operator import itemgetter\n",
    "import sys\n",
    "\n",
    "import matplotlib.pyplot as plt\n",
    "%matplotlib inline\n",
    "\n",
    "data_folder = '/mnt/orkney1/Clusters/RandomXtl/MaskRCNN/detected/W19/20180214-1/Reaction_001/Image_073/[5,5,0.1]/data'\n",
    "data_folder = r'U:\\Clusters\\RandomXtl\\MaskRCNN\\detected\\W19\\20180214-1\\Reaction_001\\Image_073\\[5,5,0.1]\\data'\n",
    "filenames = os.listdir(data_folder)\n",
    "toplefts = []\n",
    "for idx, filename in enumerate(filenames):\n",
    "    name, ext = filename.split('.')\n",
    "    topleft = [int(i) for i in name.split(',')[:2]]\n",
    "    toplefts.append(topleft)\n",
    "\n",
    "tls = sorted(toplefts, key=lambda x: x[0])\n",
    "\n",
    "max_dist = 20\n",
    "\n",
    "for idx, (t,l) in enumerate(tls):\n",
    "    for jdx, (t2, l2) in enumerate(tls[idx+1:]):    \n",
    "        if l2< l-max_dist:\n",
    "            pass\n",
    "        elif l2> l+max_dist:\n",
    "            break\n",
    "        else:\n",
    "            if t2 < t+max_dist:\n",
    "                filename1 = os.path.join(data_folder, '{},{},1.png'.format(t, l))\n",
    "                filename2 = os.path.join(data_folder, '{},{},1.png'.format(t2, l2))\n",
    "                bg1 = np.zeros((800, 1200), np.uint8)\n",
    "                bg2 = np.zeros((800, 1200),np.uint8)\n",
    "                mask1 = cv2.imread(filename1, cv2.IMREAD_GRAYSCALE)\n",
    "                mask2 = cv2.imread(filename2, cv2.IMREAD_GRAYSCALE)\n",
    "\n",
    "                if not hasattr(mask1, 'size'):\n",
    " \n",
    "                    del filename1\n",
    "                    break\n",
    "                if not hasattr(mask2, 'size'):\n",
    "                    del filename2\n",
    "                    break\n",
    "                if mask1.size < 4:\n",
    "                    del filename1\n",
    "                    break\n",
    "                if mask2.size < 4:\n",
    "                    del filename2\n",
    "                    break\n",
    "\n",
    "                bg1[t:t+mask1.shape[0], l:l+mask1.shape[1]] = mask1\n",
    "                bg2[t2:t2+mask2.shape[0], l2:l2+mask2.shape[1]] = mask2\n",
    "\n",
    "                bg3 = cv2.bitwise_or(bg1, bg2)\n",
    "                \n",
    "                o1 = np.sum(bg1)/np.sum(bg3)\n",
    "                o2 = np.sum(bg2)/np.sum(bg3)\n",
    "                print(filename1, filename2, o1, o2)\n",
    "                if o1 or o2 > 0.95:\n",
    "                    new_t = min(t, t2)\n",
    "                    new_b = max(t, t2)\n",
    "                    new_l = min(l, l2)\n",
    "                    new_r = max(l, l2)\n",
    "                    new_roi = bg3[new_t:new_b, new_l:new_r]\n",
    "                    new_filename = os.path.join(data_folder, '{},{},1.png'.format(new_t, new_l))\n",
    "                    cv2.imwrite(new_filename, new_roi)\n",
    "                    \n",
    "                    del filename1\n",
    "                    del filename2\n",
    "             \n",
    "\n",
    " \n",
    "\n",
    "\n",
    "        \n",
    "#     max_y = t+max_dist\n",
    "    \n"
   ]
  }
 ],
 "metadata": {
  "kernelspec": {
   "display_name": "Python 3",
   "language": "python",
   "name": "python3"
  },
  "language_info": {
   "codemirror_mode": {
    "name": "ipython",
    "version": 3
   },
   "file_extension": ".py",
   "mimetype": "text/x-python",
   "name": "python",
   "nbconvert_exporter": "python",
   "pygments_lexer": "ipython3",
   "version": "3.7.3"
  }
 },
 "nbformat": 4,
 "nbformat_minor": 2
}
